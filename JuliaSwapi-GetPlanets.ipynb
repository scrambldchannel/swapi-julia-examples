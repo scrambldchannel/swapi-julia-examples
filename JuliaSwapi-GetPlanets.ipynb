{
 "cells": [
  {
   "cell_type": "markdown",
   "metadata": {},
   "source": [
    "# Get some planets and create a DataFrame"
   ]
  },
  {
   "cell_type": "markdown",
   "metadata": {},
   "source": [
    "Using the fine api from [star wars api](http://swapi.co/api) we get the first planets.\n",
    "We'll use the `HTTP` module from Julia"
   ]
  },
  {
   "cell_type": "code",
   "execution_count": 2,
   "metadata": {},
   "outputs": [
    {
     "data": {
      "text/plain": [
       "HTTP.Messages.Response:\n",
       "\"\"\"\n",
       "HTTP/1.1 200 OK\r\n",
       "Date: Thu, 24 May 2018 19:09:40 GMT\r\n",
       "Content-Type: application/json\r\n",
       "Transfer-Encoding: chunked\r\n",
       "Connection: keep-alive\r\n",
       "Set-Cookie: __cfduid=d5742f34b44ab3f44f630d70cc8e513dd1527188980; expires=Fri, 24-May-19 19:09:40 GMT; path=/; domain=.swapi.co; HttpOnly; Secure\r\n",
       "Etag: \"394d177de8df8accc41f9427b749ef4a\"\r\n",
       "Vary: Accept, Cookie\r\n",
       "Allow: GET, HEAD, OPTIONS\r\n",
       "X-Frame-Options: SAMEORIGIN\r\n",
       "Via: 1.1 vegur\r\n",
       "Expect-CT: max-age=604800, report-uri=\"https://report-uri.cloudflare.com/cdn-cgi/beacon/expect-ct\"\r\n",
       "Server: cloudflare\r\n",
       "CF-RAY: 42020ed5ca296403-FRA\r\n",
       "\r\n",
       "{\"count\":61,\"next\":\"https://swapi.co/api/planets/?page=2\",\"previous\":null,\"results\":[{\"name\":\"Alderaan\",\"rotation_period\":\"24\",\"orbital_period\":\"364\",\"diameter\":\"12500\",\"climate\":\"temperate\",\"gravity\":\"1 standard\",\"terrain\":\"grasslands, mountains\",\"surface_water\":\"40\",\"population\":\"2000000000\",\"residents\":[\"https://swapi.co/api/people/5/\",\"https://swapi.co/api/people/68/\",\"https://swapi.co/api/people/81/\"],\"films\":[\"https://swapi.co/api/films/6/\",\"https://swapi.co/api/films/1/\"],\"created\":\"2014-12-10T11:35:48.479000Z\",\"edited\":\"2014-12-20T20:58:18.420000Z\",\"url\":\"https://swapi.co/api/planets/2/\"},{\"name\":\"Yavin IV\",\"rotation_period\":\"24\",\"orbital_period\":\"4818\",\"diameter\":\"10200\",\"climate\":\"temperate, tropical\",\"gravity\":\"1 standard\",\"terrain\":\"jungle, rainforests\",\"surface_water\":\"8\",\"population\":\"1000\",\"residents\":[],\"films\":[\"https://swapi.co/api/films/1/\"],\"created\":\"2014-12-10T11:37:19.144000Z\",\"edited\":\"2014-12-20T20:58:18.421000Z\",\"url\":\"https://swapi.co/api/planets/3/\"},{\"name\"\n",
       "⋮\n",
       "5039-byte body\n",
       "\"\"\""
      ]
     },
     "execution_count": 2,
     "metadata": {},
     "output_type": "execute_result"
    }
   ],
   "source": [
    "using HTTP\n",
    "res = HTTP.request(\"GET\", \"http://swapi.co/api/planets\")"
   ]
  },
  {
   "cell_type": "code",
   "execution_count": 3,
   "metadata": {},
   "outputs": [
    {
     "data": {
      "text/plain": [
       "5039-element Array{UInt8,1}:\n",
       " 0x7b\n",
       " 0x22\n",
       " 0x63\n",
       " 0x6f\n",
       " 0x75\n",
       " 0x6e\n",
       " 0x74\n",
       " 0x22\n",
       " 0x3a\n",
       " 0x36\n",
       " 0x31\n",
       " 0x2c\n",
       " 0x22\n",
       "    ⋮\n",
       " 0x6e\n",
       " 0x65\n",
       " 0x74\n",
       " 0x73\n",
       " 0x2f\n",
       " 0x31\n",
       " 0x31\n",
       " 0x2f\n",
       " 0x22\n",
       " 0x7d\n",
       " 0x5d\n",
       " 0x7d"
      ]
     },
     "execution_count": 3,
     "metadata": {},
     "output_type": "execute_result"
    }
   ],
   "source": [
    "planets_raw = res.body"
   ]
  },
  {
   "cell_type": "markdown",
   "metadata": {},
   "source": [
    "The `planets_raw` variable would be better suited as a String, before parsing it into a JSON variable:"
   ]
  },
  {
   "cell_type": "code",
   "execution_count": 5,
   "metadata": {},
   "outputs": [
    {
     "data": {
      "text/plain": [
       "Dict{String,Any} with 4 entries:\n",
       "  \"next\"     => \"https://swapi.co/api/planets/?page=2\"\n",
       "  \"previous\" => nothing\n",
       "  \"count\"    => 61\n",
       "  \"results\"  => Any[Dict{String,Any}(Pair{String,Any}(\"edited\", \"2014-12-20T20:…"
      ]
     },
     "execution_count": 5,
     "metadata": {},
     "output_type": "execute_result"
    }
   ],
   "source": [
    "using JSON\n",
    "planets_json = JSON.Parser.parse(String(planets_raw))"
   ]
  },
  {
   "cell_type": "markdown",
   "metadata": {},
   "source": [
    "_Now_ we get our planets, as an array of dictionnaries"
   ]
  },
  {
   "cell_type": "code",
   "execution_count": 8,
   "metadata": {},
   "outputs": [
    {
     "data": {
      "text/plain": [
       "10-element Array{Any,1}:\n",
       " Dict{String,Any}(Pair{String,Any}(\"edited\", \"2014-12-20T20:58:18.420000Z\"),Pair{String,Any}(\"films\", Any[\"https://swapi.co/api/films/6/\", \"https://swapi.co/api/films/1/\"]),Pair{String,Any}(\"diameter\", \"12500\"),Pair{String,Any}(\"rotation_period\", \"24\"),Pair{String,Any}(\"name\", \"Alderaan\"),Pair{String,Any}(\"created\", \"2014-12-10T11:35:48.479000Z\"),Pair{String,Any}(\"surface_water\", \"40\"),Pair{String,Any}(\"climate\", \"temperate\"),Pair{String,Any}(\"url\", \"https://swapi.co/api/planets/2/\"),Pair{String,Any}(\"terrain\", \"grasslands, mountains\")…)                                                                                  \n",
       " Dict{String,Any}(Pair{String,Any}(\"edited\", \"2014-12-20T20:58:18.421000Z\"),Pair{String,Any}(\"films\", Any[\"https://swapi.co/api/films/1/\"]),Pair{String,Any}(\"diameter\", \"10200\"),Pair{String,Any}(\"rotation_period\", \"24\"),Pair{String,Any}(\"name\", \"Yavin IV\"),Pair{String,Any}(\"created\", \"2014-12-10T11:37:19.144000Z\"),Pair{String,Any}(\"surface_water\", \"8\"),Pair{String,Any}(\"climate\", \"temperate, tropical\"),Pair{String,Any}(\"url\", \"https://swapi.co/api/planets/3/\"),Pair{String,Any}(\"terrain\", \"jungle, rainforests\")…)                                                                                                            \n",
       " Dict{String,Any}(Pair{String,Any}(\"edited\", \"2014-12-20T20:58:18.423000Z\"),Pair{String,Any}(\"films\", Any[\"https://swapi.co/api/films/2/\"]),Pair{String,Any}(\"diameter\", \"7200\"),Pair{String,Any}(\"rotation_period\", \"23\"),Pair{String,Any}(\"name\", \"Hoth\"),Pair{String,Any}(\"created\", \"2014-12-10T11:39:13.934000Z\"),Pair{String,Any}(\"surface_water\", \"100\"),Pair{String,Any}(\"climate\", \"frozen\"),Pair{String,Any}(\"url\", \"https://swapi.co/api/planets/4/\"),Pair{String,Any}(\"terrain\", \"tundra, ice caves, mountain ranges\")…)                                                                                                             \n",
       " Dict{String,Any}(Pair{String,Any}(\"edited\", \"2014-12-20T20:58:18.425000Z\"),Pair{String,Any}(\"films\", Any[\"https://swapi.co/api/films/2/\", \"https://swapi.co/api/films/6/\", \"https://swapi.co/api/films/3/\"]),Pair{String,Any}(\"diameter\", \"8900\"),Pair{String,Any}(\"rotation_period\", \"23\"),Pair{String,Any}(\"name\", \"Dagobah\"),Pair{String,Any}(\"created\", \"2014-12-10T11:42:22.590000Z\"),Pair{String,Any}(\"surface_water\", \"8\"),Pair{String,Any}(\"climate\", \"murky\"),Pair{String,Any}(\"url\", \"https://swapi.co/api/planets/5/\"),Pair{String,Any}(\"terrain\", \"swamp, jungles\")…)                                                               \n",
       " Dict{String,Any}(Pair{String,Any}(\"edited\", \"2014-12-20T20:58:18.427000Z\"),Pair{String,Any}(\"films\", Any[\"https://swapi.co/api/films/2/\"]),Pair{String,Any}(\"diameter\", \"118000\"),Pair{String,Any}(\"rotation_period\", \"12\"),Pair{String,Any}(\"name\", \"Bespin\"),Pair{String,Any}(\"created\", \"2014-12-10T11:43:55.240000Z\"),Pair{String,Any}(\"surface_water\", \"0\"),Pair{String,Any}(\"climate\", \"temperate\"),Pair{String,Any}(\"url\", \"https://swapi.co/api/planets/6/\"),Pair{String,Any}(\"terrain\", \"gas giant\")…)                                                                                                                                 \n",
       " Dict{String,Any}(Pair{String,Any}(\"edited\", \"2014-12-20T20:58:18.429000Z\"),Pair{String,Any}(\"films\", Any[\"https://swapi.co/api/films/3/\"]),Pair{String,Any}(\"diameter\", \"4900\"),Pair{String,Any}(\"rotation_period\", \"18\"),Pair{String,Any}(\"name\", \"Endor\"),Pair{String,Any}(\"created\", \"2014-12-10T11:50:29.349000Z\"),Pair{String,Any}(\"surface_water\", \"8\"),Pair{String,Any}(\"climate\", \"temperate\"),Pair{String,Any}(\"url\", \"https://swapi.co/api/planets/7/\"),Pair{String,Any}(\"terrain\", \"forests, mountains, lakes\")…)                                                                                                                    \n",
       " Dict{String,Any}(Pair{String,Any}(\"edited\", \"2014-12-20T20:58:18.430000Z\"),Pair{String,Any}(\"films\", Any[\"https://swapi.co/api/films/5/\", \"https://swapi.co/api/films/4/\", \"https://swapi.co/api/films/6/\", \"https://swapi.co/api/films/3/\"]),Pair{String,Any}(\"diameter\", \"12120\"),Pair{String,Any}(\"rotation_period\", \"26\"),Pair{String,Any}(\"name\", \"Naboo\"),Pair{String,Any}(\"created\", \"2014-12-10T11:52:31.066000Z\"),Pair{String,Any}(\"surface_water\", \"12\"),Pair{String,Any}(\"climate\", \"temperate\"),Pair{String,Any}(\"url\", \"https://swapi.co/api/planets/8/\"),Pair{String,Any}(\"terrain\", \"grassy hills, swamps, forests, mountains\")…)\n",
       " Dict{String,Any}(Pair{String,Any}(\"edited\", \"2014-12-20T20:58:18.432000Z\"),Pair{String,Any}(\"films\", Any[\"https://swapi.co/api/films/5/\", \"https://swapi.co/api/films/4/\", \"https://swapi.co/api/films/6/\", \"https://swapi.co/api/films/3/\"]),Pair{String,Any}(\"diameter\", \"12240\"),Pair{String,Any}(\"rotation_period\", \"24\"),Pair{String,Any}(\"name\", \"Coruscant\"),Pair{String,Any}(\"created\", \"2014-12-10T11:54:13.921000Z\"),Pair{String,Any}(\"surface_water\", \"unknown\"),Pair{String,Any}(\"climate\", \"temperate\"),Pair{String,Any}(\"url\", \"https://swapi.co/api/planets/9/\"),Pair{String,Any}(\"terrain\", \"cityscape, mountains\")…)           \n",
       " Dict{String,Any}(Pair{String,Any}(\"edited\", \"2014-12-20T20:58:18.434000Z\"),Pair{String,Any}(\"films\", Any[\"https://swapi.co/api/films/5/\"]),Pair{String,Any}(\"diameter\", \"19720\"),Pair{String,Any}(\"rotation_period\", \"27\"),Pair{String,Any}(\"name\", \"Kamino\"),Pair{String,Any}(\"created\", \"2014-12-10T12:45:06.577000Z\"),Pair{String,Any}(\"surface_water\", \"100\"),Pair{String,Any}(\"climate\", \"temperate\"),Pair{String,Any}(\"url\", \"https://swapi.co/api/planets/10/\"),Pair{String,Any}(\"terrain\", \"ocean\")…)                                                                                                                                   \n",
       " Dict{String,Any}(Pair{String,Any}(\"edited\", \"2014-12-20T20:58:18.437000Z\"),Pair{String,Any}(\"films\", Any[\"https://swapi.co/api/films/5/\"]),Pair{String,Any}(\"diameter\", \"11370\"),Pair{String,Any}(\"rotation_period\", \"30\"),Pair{String,Any}(\"name\", \"Geonosis\"),Pair{String,Any}(\"created\", \"2014-12-10T12:47:22.350000Z\"),Pair{String,Any}(\"surface_water\", \"5\"),Pair{String,Any}(\"climate\", \"temperate, arid\"),Pair{String,Any}(\"url\", \"https://swapi.co/api/planets/11/\"),Pair{String,Any}(\"terrain\", \"rock, desert, mountain, barren\")…)                                                                                                    "
      ]
     },
     "execution_count": 8,
     "metadata": {},
     "output_type": "execute_result"
    }
   ],
   "source": [
    "planets = planets_json[\"results\"]"
   ]
  },
  {
   "cell_type": "markdown",
   "metadata": {},
   "source": [
    "Let's convert this into a DataFrame.\n",
    "We'll use the quick fix of [a SO answer](https://stackoverflow.com/questions/46143997/reading-json-array-into-julia-dataframe-like-type) to convert the list of dictionnaries into a DataFrame"
   ]
  },
  {
   "cell_type": "code",
   "execution_count": 9,
   "metadata": {},
   "outputs": [
    {
     "data": {
      "text/plain": [
       "jsontodf (generic function with 1 method)"
      ]
     },
     "execution_count": 9,
     "metadata": {},
     "output_type": "execute_result"
    }
   ],
   "source": [
    "function jsontodf(a)\n",
    "    ka = union([keys(r) for r in a]...)\n",
    "    df = DataFrame(;Dict(Symbol(k)=>get.(a,k,NA) for k in ka)...)\n",
    "    return df\n",
    "end"
   ]
  },
  {
   "cell_type": "code",
   "execution_count": 10,
   "metadata": {},
   "outputs": [
    {
     "data": {
      "text/html": [
       "<table class=\"data-frame\"><thead><tr><th></th><th>residents</th><th>surface_water</th><th>diameter</th><th>gravity</th><th>rotation_period</th><th>population</th><th>terrain</th><th>url</th><th>name</th><th>created</th><th>climate</th><th>orbital_period</th><th>films</th><th>edited</th></tr></thead><tbody><tr><th>1</th><td>Any[\"https://swapi.co/api/people/5/\", \"https://swapi.co/api/people/68/\", \"https://swapi.co/api/people/81/\"]</td><td>40</td><td>12500</td><td>1 standard</td><td>24</td><td>2000000000</td><td>grasslands, mountains</td><td>https://swapi.co/api/planets/2/</td><td>Alderaan</td><td>2014-12-10T11:35:48.479000Z</td><td>temperate</td><td>364</td><td>Any[\"https://swapi.co/api/films/6/\", \"https://swapi.co/api/films/1/\"]</td><td>2014-12-20T20:58:18.420000Z</td></tr><tr><th>2</th><td>Any[]</td><td>8</td><td>10200</td><td>1 standard</td><td>24</td><td>1000</td><td>jungle, rainforests</td><td>https://swapi.co/api/planets/3/</td><td>Yavin IV</td><td>2014-12-10T11:37:19.144000Z</td><td>temperate, tropical</td><td>4818</td><td>Any[\"https://swapi.co/api/films/1/\"]</td><td>2014-12-20T20:58:18.421000Z</td></tr><tr><th>3</th><td>Any[]</td><td>100</td><td>7200</td><td>1.1 standard</td><td>23</td><td>unknown</td><td>tundra, ice caves, mountain ranges</td><td>https://swapi.co/api/planets/4/</td><td>Hoth</td><td>2014-12-10T11:39:13.934000Z</td><td>frozen</td><td>549</td><td>Any[\"https://swapi.co/api/films/2/\"]</td><td>2014-12-20T20:58:18.423000Z</td></tr><tr><th>4</th><td>Any[]</td><td>8</td><td>8900</td><td>N/A</td><td>23</td><td>unknown</td><td>swamp, jungles</td><td>https://swapi.co/api/planets/5/</td><td>Dagobah</td><td>2014-12-10T11:42:22.590000Z</td><td>murky</td><td>341</td><td>Any[\"https://swapi.co/api/films/2/\", \"https://swapi.co/api/films/6/\", \"https://swapi.co/api/films/3/\"]</td><td>2014-12-20T20:58:18.425000Z</td></tr><tr><th>5</th><td>Any[\"https://swapi.co/api/people/26/\"]</td><td>0</td><td>118000</td><td>1.5 (surface), 1 standard (Cloud City)</td><td>12</td><td>6000000</td><td>gas giant</td><td>https://swapi.co/api/planets/6/</td><td>Bespin</td><td>2014-12-10T11:43:55.240000Z</td><td>temperate</td><td>5110</td><td>Any[\"https://swapi.co/api/films/2/\"]</td><td>2014-12-20T20:58:18.427000Z</td></tr><tr><th>6</th><td>Any[\"https://swapi.co/api/people/30/\"]</td><td>8</td><td>4900</td><td>0.85 standard</td><td>18</td><td>30000000</td><td>forests, mountains, lakes</td><td>https://swapi.co/api/planets/7/</td><td>Endor</td><td>2014-12-10T11:50:29.349000Z</td><td>temperate</td><td>402</td><td>Any[\"https://swapi.co/api/films/3/\"]</td><td>2014-12-20T20:58:18.429000Z</td></tr><tr><th>7</th><td>Any[\"https://swapi.co/api/people/3/\", \"https://swapi.co/api/people/21/\", \"https://swapi.co/api/people/36/\", \"https://swapi.co/api/people/37/\", \"https://swapi.co/api/people/38/\", \"https://swapi.co/api/people/39/\", \"https://swapi.co/api/people/42/\", \"https://swapi.co/api/people/60/\", \"https://swapi.co/api/people/61/\", \"https://swapi.co/api/people/66/\", \"https://swapi.co/api/people/35/\"]</td><td>12</td><td>12120</td><td>1 standard</td><td>26</td><td>4500000000</td><td>grassy hills, swamps, forests, mountains</td><td>https://swapi.co/api/planets/8/</td><td>Naboo</td><td>2014-12-10T11:52:31.066000Z</td><td>temperate</td><td>312</td><td>Any[\"https://swapi.co/api/films/5/\", \"https://swapi.co/api/films/4/\", \"https://swapi.co/api/films/6/\", \"https://swapi.co/api/films/3/\"]</td><td>2014-12-20T20:58:18.430000Z</td></tr><tr><th>8</th><td>Any[\"https://swapi.co/api/people/34/\", \"https://swapi.co/api/people/55/\", \"https://swapi.co/api/people/74/\"]</td><td>unknown</td><td>12240</td><td>1 standard</td><td>24</td><td>1000000000000</td><td>cityscape, mountains</td><td>https://swapi.co/api/planets/9/</td><td>Coruscant</td><td>2014-12-10T11:54:13.921000Z</td><td>temperate</td><td>368</td><td>Any[\"https://swapi.co/api/films/5/\", \"https://swapi.co/api/films/4/\", \"https://swapi.co/api/films/6/\", \"https://swapi.co/api/films/3/\"]</td><td>2014-12-20T20:58:18.432000Z</td></tr><tr><th>9</th><td>Any[\"https://swapi.co/api/people/22/\", \"https://swapi.co/api/people/72/\", \"https://swapi.co/api/people/73/\"]</td><td>100</td><td>19720</td><td>1 standard</td><td>27</td><td>1000000000</td><td>ocean</td><td>https://swapi.co/api/planets/10/</td><td>Kamino</td><td>2014-12-10T12:45:06.577000Z</td><td>temperate</td><td>463</td><td>Any[\"https://swapi.co/api/films/5/\"]</td><td>2014-12-20T20:58:18.434000Z</td></tr><tr><th>10</th><td>Any[\"https://swapi.co/api/people/63/\"]</td><td>5</td><td>11370</td><td>0.9 standard</td><td>30</td><td>100000000000</td><td>rock, desert, mountain, barren</td><td>https://swapi.co/api/planets/11/</td><td>Geonosis</td><td>2014-12-10T12:47:22.350000Z</td><td>temperate, arid</td><td>256</td><td>Any[\"https://swapi.co/api/films/5/\"]</td><td>2014-12-20T20:58:18.437000Z</td></tr></tbody></table>"
      ],
      "text/plain": [
       "10×14 DataFrames.DataFrame\n",
       "│ Row │ ├─────┼\n",
       "│ 1   │ │ 2   │ │ 3   │ │ 4   │ │ 5   │ │ 6   │ │ 7   │ │ 8   │ │ 9   │ │ 10  │ \n",
       "\n",
       "│ Row │ residents                                                                                                                                                                                                                                                                                                                                                                                           │\n",
       "├─────┼─────────────────────────────────────────────────────────────────────────────────────────────────────────────────────────────────────────────────────────────────────────────────────────────────────────────────────────────────────────────────────────────────────────────────────────────────────────────────────────────────────────────────────────────────────────────────────────────────────┤\n",
       "│ 1   │ Any[\"https://swapi.co/api/people/5/\", \"https://swapi.co/api/people/68/\", \"https://swapi.co/api/people/81/\"]                                                                                                                                                                                                                                                                                         │\n",
       "│ 2   │ Any[]                                                                                                                                                                                                                                                                                                                                                                                               │\n",
       "│ 3   │ Any[]                                                                                                                                                                                                                                                                                                                                                                                               │\n",
       "│ 4   │ Any[]                                                                                                                                                                                                                                                                                                                                                                                               │\n",
       "│ 5   │ Any[\"https://swapi.co/api/people/26/\"]                                                                                                                                                                                                                                                                                                                                                              │\n",
       "│ 6   │ Any[\"https://swapi.co/api/people/30/\"]                                                                                                                                                                                                                                                                                                                                                              │\n",
       "│ 7   │ Any[\"https://swapi.co/api/people/3/\", \"https://swapi.co/api/people/21/\", \"https://swapi.co/api/people/36/\", \"https://swapi.co/api/people/37/\", \"https://swapi.co/api/people/38/\", \"https://swapi.co/api/people/39/\", \"https://swapi.co/api/people/42/\", \"https://swapi.co/api/people/60/\", \"https://swapi.co/api/people/61/\", \"https://swapi.co/api/people/66/\", \"https://swapi.co/api/people/35/\"] │\n",
       "│ 8   │ Any[\"https://swapi.co/api/people/34/\", \"https://swapi.co/api/people/55/\", \"https://swapi.co/api/people/74/\"]                                                                                                                                                                                                                                                                                        │\n",
       "│ 9   │ Any[\"https://swapi.co/api/people/22/\", \"https://swapi.co/api/people/72/\", \"https://swapi.co/api/people/73/\"]                                                                                                                                                                                                                                                                                        │\n",
       "│ 10  │ Any[\"https://swapi.co/api/people/63/\"]                                                                                                                                                                                                                                                                                                                                                              │\n",
       "\n",
       "│ Row │ surface_water │ diameter │ gravity                                  │\n",
       "├─────┼───────────────┼──────────┼──────────────────────────────────────────┤\n",
       "│ 1   │ \"40\"          │ \"12500\"  │ \"1 standard\"                             │\n",
       "│ 2   │ \"8\"           │ \"10200\"  │ \"1 standard\"                             │\n",
       "│ 3   │ \"100\"         │ \"7200\"   │ \"1.1 standard\"                           │\n",
       "│ 4   │ \"8\"           │ \"8900\"   │ \"N/A\"                                    │\n",
       "│ 5   │ \"0\"           │ \"118000\" │ \"1.5 (surface), 1 standard (Cloud City)\" │\n",
       "│ 6   │ \"8\"           │ \"4900\"   │ \"0.85 standard\"                          │\n",
       "│ 7   │ \"12\"          │ \"12120\"  │ \"1 standard\"                             │\n",
       "│ 8   │ \"unknown\"     │ \"12240\"  │ \"1 standard\"                             │\n",
       "│ 9   │ \"100\"         │ \"19720\"  │ \"1 standard\"                             │\n",
       "│ 10  │ \"5\"           │ \"11370\"  │ \"0.9 standard\"                           │\n",
       "\n",
       "│ Row │ rotation_period │ population      │\n",
       "├─────┼─────────────────┼─────────────────┤\n",
       "│ 1   │ \"24\"            │ \"2000000000\"    │\n",
       "│ 2   │ \"24\"            │ \"1000\"          │\n",
       "│ 3   │ \"23\"            │ \"unknown\"       │\n",
       "│ 4   │ \"23\"            │ \"unknown\"       │\n",
       "│ 5   │ \"12\"            │ \"6000000\"       │\n",
       "│ 6   │ \"18\"            │ \"30000000\"      │\n",
       "│ 7   │ \"26\"            │ \"4500000000\"    │\n",
       "│ 8   │ \"24\"            │ \"1000000000000\" │\n",
       "│ 9   │ \"27\"            │ \"1000000000\"    │\n",
       "│ 10  │ \"30\"            │ \"100000000000\"  │\n",
       "\n",
       "│ Row │ terrain                                    │\n",
       "├─────┼────────────────────────────────────────────┤\n",
       "│ 1   │ \"grasslands, mountains\"                    │\n",
       "│ 2   │ \"jungle, rainforests\"                      │\n",
       "│ 3   │ \"tundra, ice caves, mountain ranges\"       │\n",
       "│ 4   │ \"swamp, jungles\"                           │\n",
       "│ 5   │ \"gas giant\"                                │\n",
       "│ 6   │ \"forests, mountains, lakes\"                │\n",
       "│ 7   │ \"grassy hills, swamps, forests, mountains\" │\n",
       "│ 8   │ \"cityscape, mountains\"                     │\n",
       "│ 9   │ \"ocean\"                                    │\n",
       "│ 10  │ \"rock, desert, mountain, barren\"           │\n",
       "\n",
       "│ Row │ url                                │ name        │\n",
       "├─────┼────────────────────────────────────┼─────────────┤\n",
       "│ 1   │ \"https://swapi.co/api/planets/2/\"  │ \"Alderaan\"  │\n",
       "│ 2   │ \"https://swapi.co/api/planets/3/\"  │ \"Yavin IV\"  │\n",
       "│ 3   │ \"https://swapi.co/api/planets/4/\"  │ \"Hoth\"      │\n",
       "│ 4   │ \"https://swapi.co/api/planets/5/\"  │ \"Dagobah\"   │\n",
       "│ 5   │ \"https://swapi.co/api/planets/6/\"  │ \"Bespin\"    │\n",
       "│ 6   │ \"https://swapi.co/api/planets/7/\"  │ \"Endor\"     │\n",
       "│ 7   │ \"https://swapi.co/api/planets/8/\"  │ \"Naboo\"     │\n",
       "│ 8   │ \"https://swapi.co/api/planets/9/\"  │ \"Coruscant\" │\n",
       "│ 9   │ \"https://swapi.co/api/planets/10/\" │ \"Kamino\"    │\n",
       "│ 10  │ \"https://swapi.co/api/planets/11/\" │ \"Geonosis\"  │\n",
       "\n",
       "│ Row │ created                       │ climate               │ orbital_period │\n",
       "├─────┼───────────────────────────────┼───────────────────────┼────────────────┤\n",
       "│ 1   │ \"2014-12-10T11:35:48.479000Z\" │ \"temperate\"           │ \"364\"          │\n",
       "│ 2   │ \"2014-12-10T11:37:19.144000Z\" │ \"temperate, tropical\" │ \"4818\"         │\n",
       "│ 3   │ \"2014-12-10T11:39:13.934000Z\" │ \"frozen\"              │ \"549\"          │\n",
       "│ 4   │ \"2014-12-10T11:42:22.590000Z\" │ \"murky\"               │ \"341\"          │\n",
       "│ 5   │ \"2014-12-10T11:43:55.240000Z\" │ \"temperate\"           │ \"5110\"         │\n",
       "│ 6   │ \"2014-12-10T11:50:29.349000Z\" │ \"temperate\"           │ \"402\"          │\n",
       "│ 7   │ \"2014-12-10T11:52:31.066000Z\" │ \"temperate\"           │ \"312\"          │\n",
       "│ 8   │ \"2014-12-10T11:54:13.921000Z\" │ \"temperate\"           │ \"368\"          │\n",
       "│ 9   │ \"2014-12-10T12:45:06.577000Z\" │ \"temperate\"           │ \"463\"          │\n",
       "│ 10  │ \"2014-12-10T12:47:22.350000Z\" │ \"temperate, arid\"     │ \"256\"          │\n",
       "\n",
       "│ Row │ films                                                                                                                                   │\n",
       "├─────┼─────────────────────────────────────────────────────────────────────────────────────────────────────────────────────────────────────────┤\n",
       "│ 1   │ Any[\"https://swapi.co/api/films/6/\", \"https://swapi.co/api/films/1/\"]                                                                   │\n",
       "│ 2   │ Any[\"https://swapi.co/api/films/1/\"]                                                                                                    │\n",
       "│ 3   │ Any[\"https://swapi.co/api/films/2/\"]                                                                                                    │\n",
       "│ 4   │ Any[\"https://swapi.co/api/films/2/\", \"https://swapi.co/api/films/6/\", \"https://swapi.co/api/films/3/\"]                                  │\n",
       "│ 5   │ Any[\"https://swapi.co/api/films/2/\"]                                                                                                    │\n",
       "│ 6   │ Any[\"https://swapi.co/api/films/3/\"]                                                                                                    │\n",
       "│ 7   │ Any[\"https://swapi.co/api/films/5/\", \"https://swapi.co/api/films/4/\", \"https://swapi.co/api/films/6/\", \"https://swapi.co/api/films/3/\"] │\n",
       "│ 8   │ Any[\"https://swapi.co/api/films/5/\", \"https://swapi.co/api/films/4/\", \"https://swapi.co/api/films/6/\", \"https://swapi.co/api/films/3/\"] │\n",
       "│ 9   │ Any[\"https://swapi.co/api/films/5/\"]                                                                                                    │\n",
       "│ 10  │ Any[\"https://swapi.co/api/films/5/\"]                                                                                                    │\n",
       "\n",
       "│ Row │ edited                        │\n",
       "├─────┼───────────────────────────────┤\n",
       "│ 1   │ \"2014-12-20T20:58:18.420000Z\" │\n",
       "│ 2   │ \"2014-12-20T20:58:18.421000Z\" │\n",
       "│ 3   │ \"2014-12-20T20:58:18.423000Z\" │\n",
       "│ 4   │ \"2014-12-20T20:58:18.425000Z\" │\n",
       "│ 5   │ \"2014-12-20T20:58:18.427000Z\" │\n",
       "│ 6   │ \"2014-12-20T20:58:18.429000Z\" │\n",
       "│ 7   │ \"2014-12-20T20:58:18.430000Z\" │\n",
       "│ 8   │ \"2014-12-20T20:58:18.432000Z\" │\n",
       "│ 9   │ \"2014-12-20T20:58:18.434000Z\" │\n",
       "│ 10  │ \"2014-12-20T20:58:18.437000Z\" │"
      ]
     },
     "execution_count": 10,
     "metadata": {},
     "output_type": "execute_result"
    }
   ],
   "source": [
    "using DataFrames\n",
    "planets_df = jsontodf(planets)"
   ]
  },
  {
   "cell_type": "code",
   "execution_count": 26,
   "metadata": {},
   "outputs": [],
   "source": [
    "moreplanets = true\n",
    "nexturl = \"http://swapi.co/api/planets/\"\n",
    "planets = []\n",
    "\n",
    "while nexturl != nothing\n",
    "       res = HTTP.request(\"GET\", nexturl)\n",
    "       data = String(res.body)\n",
    "       jsondata = JSON.Parser.parse(data)\n",
    "       planets = vcat(planets, jsondata[\"results\"])\n",
    "       nexturl = jsondata[\"next\"]       \n",
    "end"
   ]
  },
  {
   "cell_type": "code",
   "execution_count": 48,
   "metadata": {},
   "outputs": [
    {
     "data": {
      "text/html": [
       "<table class=\"data-frame\"><thead><tr><th></th><th>residents</th><th>surface_water</th><th>diameter</th><th>gravity</th><th>rotation_period</th><th>population</th><th>terrain</th><th>url</th><th>name</th><th>created</th><th>climate</th><th>orbital_period</th><th>films</th><th>edited</th></tr></thead><tbody><tr><th>1</th><td>Any[\"https://swapi.co/api/people/5/\", \"https://swapi.co/api/people/68/\", \"https://swapi.co/api/people/81/\"]</td><td>40</td><td>12500</td><td>1 standard</td><td>24</td><td>2000000000</td><td>grasslands, mountains</td><td>https://swapi.co/api/planets/2/</td><td>Alderaan</td><td>2014-12-10T11:35:48.479000Z</td><td>temperate</td><td>364</td><td>Any[\"https://swapi.co/api/films/6/\", \"https://swapi.co/api/films/1/\"]</td><td>2014-12-20T20:58:18.420000Z</td></tr><tr><th>2</th><td>Any[]</td><td>8</td><td>10200</td><td>1 standard</td><td>24</td><td>1000</td><td>jungle, rainforests</td><td>https://swapi.co/api/planets/3/</td><td>Yavin IV</td><td>2014-12-10T11:37:19.144000Z</td><td>temperate, tropical</td><td>4818</td><td>Any[\"https://swapi.co/api/films/1/\"]</td><td>2014-12-20T20:58:18.421000Z</td></tr><tr><th>3</th><td>Any[]</td><td>100</td><td>7200</td><td>1.1 standard</td><td>23</td><td>unknown</td><td>tundra, ice caves, mountain ranges</td><td>https://swapi.co/api/planets/4/</td><td>Hoth</td><td>2014-12-10T11:39:13.934000Z</td><td>frozen</td><td>549</td><td>Any[\"https://swapi.co/api/films/2/\"]</td><td>2014-12-20T20:58:18.423000Z</td></tr><tr><th>4</th><td>Any[]</td><td>8</td><td>8900</td><td>N/A</td><td>23</td><td>unknown</td><td>swamp, jungles</td><td>https://swapi.co/api/planets/5/</td><td>Dagobah</td><td>2014-12-10T11:42:22.590000Z</td><td>murky</td><td>341</td><td>Any[\"https://swapi.co/api/films/2/\", \"https://swapi.co/api/films/6/\", \"https://swapi.co/api/films/3/\"]</td><td>2014-12-20T20:58:18.425000Z</td></tr><tr><th>5</th><td>Any[\"https://swapi.co/api/people/26/\"]</td><td>0</td><td>118000</td><td>1.5 (surface), 1 standard (Cloud City)</td><td>12</td><td>6000000</td><td>gas giant</td><td>https://swapi.co/api/planets/6/</td><td>Bespin</td><td>2014-12-10T11:43:55.240000Z</td><td>temperate</td><td>5110</td><td>Any[\"https://swapi.co/api/films/2/\"]</td><td>2014-12-20T20:58:18.427000Z</td></tr><tr><th>6</th><td>Any[\"https://swapi.co/api/people/30/\"]</td><td>8</td><td>4900</td><td>0.85 standard</td><td>18</td><td>30000000</td><td>forests, mountains, lakes</td><td>https://swapi.co/api/planets/7/</td><td>Endor</td><td>2014-12-10T11:50:29.349000Z</td><td>temperate</td><td>402</td><td>Any[\"https://swapi.co/api/films/3/\"]</td><td>2014-12-20T20:58:18.429000Z</td></tr><tr><th>7</th><td>Any[\"https://swapi.co/api/people/3/\", \"https://swapi.co/api/people/21/\", \"https://swapi.co/api/people/36/\", \"https://swapi.co/api/people/37/\", \"https://swapi.co/api/people/38/\", \"https://swapi.co/api/people/39/\", \"https://swapi.co/api/people/42/\", \"https://swapi.co/api/people/60/\", \"https://swapi.co/api/people/61/\", \"https://swapi.co/api/people/66/\", \"https://swapi.co/api/people/35/\"]</td><td>12</td><td>12120</td><td>1 standard</td><td>26</td><td>4500000000</td><td>grassy hills, swamps, forests, mountains</td><td>https://swapi.co/api/planets/8/</td><td>Naboo</td><td>2014-12-10T11:52:31.066000Z</td><td>temperate</td><td>312</td><td>Any[\"https://swapi.co/api/films/5/\", \"https://swapi.co/api/films/4/\", \"https://swapi.co/api/films/6/\", \"https://swapi.co/api/films/3/\"]</td><td>2014-12-20T20:58:18.430000Z</td></tr><tr><th>8</th><td>Any[\"https://swapi.co/api/people/34/\", \"https://swapi.co/api/people/55/\", \"https://swapi.co/api/people/74/\"]</td><td>unknown</td><td>12240</td><td>1 standard</td><td>24</td><td>1000000000000</td><td>cityscape, mountains</td><td>https://swapi.co/api/planets/9/</td><td>Coruscant</td><td>2014-12-10T11:54:13.921000Z</td><td>temperate</td><td>368</td><td>Any[\"https://swapi.co/api/films/5/\", \"https://swapi.co/api/films/4/\", \"https://swapi.co/api/films/6/\", \"https://swapi.co/api/films/3/\"]</td><td>2014-12-20T20:58:18.432000Z</td></tr><tr><th>9</th><td>Any[\"https://swapi.co/api/people/22/\", \"https://swapi.co/api/people/72/\", \"https://swapi.co/api/people/73/\"]</td><td>100</td><td>19720</td><td>1 standard</td><td>27</td><td>1000000000</td><td>ocean</td><td>https://swapi.co/api/planets/10/</td><td>Kamino</td><td>2014-12-10T12:45:06.577000Z</td><td>temperate</td><td>463</td><td>Any[\"https://swapi.co/api/films/5/\"]</td><td>2014-12-20T20:58:18.434000Z</td></tr><tr><th>10</th><td>Any[\"https://swapi.co/api/people/63/\"]</td><td>5</td><td>11370</td><td>0.9 standard</td><td>30</td><td>100000000000</td><td>rock, desert, mountain, barren</td><td>https://swapi.co/api/planets/11/</td><td>Geonosis</td><td>2014-12-10T12:47:22.350000Z</td><td>temperate, arid</td><td>256</td><td>Any[\"https://swapi.co/api/films/5/\"]</td><td>2014-12-20T20:58:18.437000Z</td></tr><tr><th>11</th><td>Any[\"https://swapi.co/api/people/83/\"]</td><td>0.9</td><td>12900</td><td>1 standard</td><td>27</td><td>95000000</td><td>scrublands, savanna, canyons, sinkholes</td><td>https://swapi.co/api/planets/12/</td><td>Utapau</td><td>2014-12-10T12:49:01.491000Z</td><td>temperate, arid, windy</td><td>351</td><td>Any[\"https://swapi.co/api/films/6/\"]</td><td>2014-12-20T20:58:18.439000Z</td></tr><tr><th>12</th><td>Any[]</td><td>0</td><td>4200</td><td>1 standard</td><td>36</td><td>20000</td><td>volcanoes, lava rivers, mountains, caves</td><td>https://swapi.co/api/planets/13/</td><td>Mustafar</td><td>2014-12-10T12:50:16.526000Z</td><td>hot</td><td>412</td><td>Any[\"https://swapi.co/api/films/6/\"]</td><td>2014-12-20T20:58:18.440000Z</td></tr><tr><th>13</th><td>Any[\"https://swapi.co/api/people/13/\", \"https://swapi.co/api/people/80/\"]</td><td>60</td><td>12765</td><td>1 standard</td><td>26</td><td>45000000</td><td>jungle, forests, lakes, rivers</td><td>https://swapi.co/api/planets/14/</td><td>Kashyyyk</td><td>2014-12-10T13:32:00.124000Z</td><td>tropical</td><td>381</td><td>Any[\"https://swapi.co/api/films/6/\"]</td><td>2014-12-20T20:58:18.442000Z</td></tr><tr><th>14</th><td>Any[]</td><td>0</td><td>0</td><td>0.56 standard</td><td>24</td><td>1000000</td><td>airless asteroid</td><td>https://swapi.co/api/planets/15/</td><td>Polis Massa</td><td>2014-12-10T13:33:46.405000Z</td><td>artificial temperate </td><td>590</td><td>Any[\"https://swapi.co/api/films/6/\"]</td><td>2014-12-20T20:58:18.444000Z</td></tr><tr><th>15</th><td>Any[]</td><td>unknown</td><td>10088</td><td>1 standard</td><td>12</td><td>19000000</td><td>glaciers, mountains, ice canyons</td><td>https://swapi.co/api/planets/16/</td><td>Mygeeto</td><td>2014-12-10T13:43:39.139000Z</td><td>frigid</td><td>167</td><td>Any[\"https://swapi.co/api/films/6/\"]</td><td>2014-12-20T20:58:18.446000Z</td></tr><tr><th>16</th><td>Any[]</td><td>unknown</td><td>9100</td><td>0.75 standard</td><td>34</td><td>8500000</td><td>fungus forests</td><td>https://swapi.co/api/planets/17/</td><td>Felucia</td><td>2014-12-10T13:44:50.397000Z</td><td>hot, humid</td><td>231</td><td>Any[\"https://swapi.co/api/films/6/\"]</td><td>2014-12-20T20:58:18.447000Z</td></tr><tr><th>17</th><td>Any[\"https://swapi.co/api/people/33/\"]</td><td>unknown</td><td>0</td><td>1 standard</td><td>25</td><td>10000000</td><td>mountains, fields, forests, rock arches</td><td>https://swapi.co/api/planets/18/</td><td>Cato Neimoidia</td><td>2014-12-10T13:46:28.704000Z</td><td>temperate, moist</td><td>278</td><td>Any[\"https://swapi.co/api/films/6/\"]</td><td>2014-12-20T20:58:18.449000Z</td></tr><tr><th>18</th><td>Any[]</td><td>unknown</td><td>14920</td><td>unknown</td><td>26</td><td>1400000000</td><td>caves, desert, mountains, volcanoes</td><td>https://swapi.co/api/planets/19/</td><td>Saleucami</td><td>2014-12-10T13:47:46.874000Z</td><td>hot</td><td>392</td><td>Any[\"https://swapi.co/api/films/6/\"]</td><td>2014-12-20T20:58:18.450000Z</td></tr><tr><th>19</th><td>Any[\"https://swapi.co/api/people/10/\"]</td><td>unknown</td><td>0</td><td>1 standard</td><td>unknown</td><td>unknown</td><td>grass</td><td>https://swapi.co/api/planets/20/</td><td>Stewjon</td><td>2014-12-10T16:16:26.566000Z</td><td>temperate</td><td>unknown</td><td>Any[]</td><td>2014-12-20T20:58:18.452000Z</td></tr><tr><th>20</th><td>Any[\"https://swapi.co/api/people/12/\"]</td><td>unknown</td><td>13490</td><td>1 standard</td><td>24</td><td>22000000000</td><td>cityscape</td><td>https://swapi.co/api/planets/21/</td><td>Eriadu</td><td>2014-12-10T16:26:54.384000Z</td><td>polluted</td><td>360</td><td>Any[]</td><td>2014-12-20T20:58:18.454000Z</td></tr><tr><th>21</th><td>Any[\"https://swapi.co/api/people/14/\", \"https://swapi.co/api/people/18/\"]</td><td>70</td><td>11000</td><td>1 standard</td><td>25</td><td>3000000000</td><td>plains, urban, hills, forests</td><td>https://swapi.co/api/planets/22/</td><td>Corellia</td><td>2014-12-10T16:49:12.453000Z</td><td>temperate</td><td>329</td><td>Any[]</td><td>2014-12-20T20:58:18.456000Z</td></tr><tr><th>22</th><td>Any[\"https://swapi.co/api/people/15/\"]</td><td>60</td><td>7549</td><td>1 standard</td><td>29</td><td>1300000000</td><td>jungles, oceans, urban, swamps</td><td>https://swapi.co/api/planets/23/</td><td>Rodia</td><td>2014-12-10T17:03:28.110000Z</td><td>hot</td><td>305</td><td>Any[]</td><td>2014-12-20T20:58:18.458000Z</td></tr><tr><th>23</th><td>Any[\"https://swapi.co/api/people/16/\"]</td><td>unknown</td><td>12150</td><td>1 standard</td><td>87</td><td>7000000000</td><td>urban, oceans, swamps, bogs</td><td>https://swapi.co/api/planets/24/</td><td>Nal Hutta</td><td>2014-12-10T17:11:29.452000Z</td><td>temperate</td><td>413</td><td>Any[]</td><td>2014-12-20T20:58:18.460000Z</td></tr><tr><th>24</th><td>Any[]</td><td>unknown</td><td>9830</td><td>1 standard</td><td>25</td><td>1000</td><td>oceans, savannas, mountains, grasslands</td><td>https://swapi.co/api/planets/25/</td><td>Dantooine</td><td>2014-12-10T17:23:29.896000Z</td><td>temperate</td><td>378</td><td>Any[]</td><td>2014-12-20T20:58:18.461000Z</td></tr><tr><th>25</th><td>Any[\"https://swapi.co/api/people/19/\"]</td><td>98</td><td>6400</td><td>unknown</td><td>26</td><td>62000000</td><td>rocky islands, oceans</td><td>https://swapi.co/api/planets/26/</td><td>Bestine IV</td><td>2014-12-12T11:16:55.078000Z</td><td>temperate</td><td>680</td><td>Any[]</td><td>2014-12-20T20:58:18.463000Z</td></tr><tr><th>26</th><td>Any[]</td><td>10</td><td>14050</td><td>1 standard</td><td>26</td><td>4000000000</td><td>plains, seas, mesas</td><td>https://swapi.co/api/planets/27/</td><td>Ord Mantell</td><td>2014-12-15T12:23:41.661000Z</td><td>temperate</td><td>334</td><td>Any[\"https://swapi.co/api/films/2/\"]</td><td>2014-12-20T20:58:18.464000Z</td></tr><tr><th>27</th><td>Any[\"https://swapi.co/api/people/20/\", \"https://swapi.co/api/people/23/\", \"https://swapi.co/api/people/29/\", \"https://swapi.co/api/people/32/\", \"https://swapi.co/api/people/75/\", \"https://swapi.co/api/people/84/\", \"https://swapi.co/api/people/85/\", \"https://swapi.co/api/people/86/\", \"https://swapi.co/api/people/87/\", \"https://swapi.co/api/people/88/\"]</td><td>unknown</td><td>0</td><td>unknown</td><td>0</td><td>unknown</td><td>unknown</td><td>https://swapi.co/api/planets/28/</td><td>unknown</td><td>2014-12-15T12:25:59.569000Z</td><td>unknown</td><td>0</td><td>Any[]</td><td>2014-12-20T20:58:18.466000Z</td></tr><tr><th>28</th><td>Any[\"https://swapi.co/api/people/24/\"]</td><td>unknown</td><td>0</td><td>0.62 standard</td><td>25</td><td>42000000</td><td>mountains, seas, grasslands, deserts</td><td>https://swapi.co/api/planets/29/</td><td>Trandosha</td><td>2014-12-15T12:53:47.695000Z</td><td>arid</td><td>371</td><td>Any[]</td><td>2014-12-20T20:58:18.468000Z</td></tr><tr><th>29</th><td>Any[\"https://swapi.co/api/people/25/\"]</td><td>unknown</td><td>0</td><td>1 standard</td><td>20</td><td>300000000</td><td>deserts, mountains</td><td>https://swapi.co/api/planets/30/</td><td>Socorro</td><td>2014-12-15T12:56:31.121000Z</td><td>arid</td><td>326</td><td>Any[]</td><td>2014-12-20T20:58:18.469000Z</td></tr><tr><th>30</th><td>Any[\"https://swapi.co/api/people/27/\"]</td><td>100</td><td>11030</td><td>1</td><td>21</td><td>27000000000</td><td>oceans, reefs, islands</td><td>https://swapi.co/api/planets/31/</td><td>Mon Cala</td><td>2014-12-18T11:07:01.792000Z</td><td>temperate</td><td>398</td><td>Any[]</td><td>2014-12-20T20:58:18.471000Z</td></tr><tr><th>&vellip;</th><td>&vellip;</td><td>&vellip;</td><td>&vellip;</td><td>&vellip;</td><td>&vellip;</td><td>&vellip;</td><td>&vellip;</td><td>&vellip;</td><td>&vellip;</td><td>&vellip;</td><td>&vellip;</td><td>&vellip;</td><td>&vellip;</td><td>&vellip;</td></tr></tbody></table>"
      ],
      "text/plain": [
       "61×14 DataFrames.DataFrame\n",
       "│ Row │ ├─────┼\n",
       "│ 1   │ │ 2   │ │ 3   │ │ 4   │ │ 5   │ │ 6   │ │ 7   │ │ 8   │ │ 9   │ │ 10  │ │ 11  │ \n",
       "⋮\n",
       "│ 50  │ │ 51  │ │ 52  │ │ 53  │ │ 54  │ │ 55  │ │ 56  │ │ 57  │ │ 58  │ │ 59  │ │ 60  │ │ 61  │ \n",
       "\n",
       "│ Row │ residents                                                                                                                                                                                                                                                                                                                                                                                           │\n",
       "├─────┼─────────────────────────────────────────────────────────────────────────────────────────────────────────────────────────────────────────────────────────────────────────────────────────────────────────────────────────────────────────────────────────────────────────────────────────────────────────────────────────────────────────────────────────────────────────────────────────────────────┤\n",
       "│ 1   │ Any[\"https://swapi.co/api/people/5/\", \"https://swapi.co/api/people/68/\", \"https://swapi.co/api/people/81/\"]                                                                                                                                                                                                                                                                                         │\n",
       "│ 2   │ Any[]                                                                                                                                                                                                                                                                                                                                                                                               │\n",
       "│ 3   │ Any[]                                                                                                                                                                                                                                                                                                                                                                                               │\n",
       "│ 4   │ Any[]                                                                                                                                                                                                                                                                                                                                                                                               │\n",
       "│ 5   │ Any[\"https://swapi.co/api/people/26/\"]                                                                                                                                                                                                                                                                                                                                                              │\n",
       "│ 6   │ Any[\"https://swapi.co/api/people/30/\"]                                                                                                                                                                                                                                                                                                                                                              │\n",
       "│ 7   │ Any[\"https://swapi.co/api/people/3/\", \"https://swapi.co/api/people/21/\", \"https://swapi.co/api/people/36/\", \"https://swapi.co/api/people/37/\", \"https://swapi.co/api/people/38/\", \"https://swapi.co/api/people/39/\", \"https://swapi.co/api/people/42/\", \"https://swapi.co/api/people/60/\", \"https://swapi.co/api/people/61/\", \"https://swapi.co/api/people/66/\", \"https://swapi.co/api/people/35/\"] │\n",
       "│ 8   │ Any[\"https://swapi.co/api/people/34/\", \"https://swapi.co/api/people/55/\", \"https://swapi.co/api/people/74/\"]                                                                                                                                                                                                                                                                                        │\n",
       "│ 9   │ Any[\"https://swapi.co/api/people/22/\", \"https://swapi.co/api/people/72/\", \"https://swapi.co/api/people/73/\"]                                                                                                                                                                                                                                                                                        │\n",
       "│ 10  │ Any[\"https://swapi.co/api/people/63/\"]                                                                                                                                                                                                                                                                                                                                                              │\n",
       "│ 11  │ Any[\"https://swapi.co/api/people/83/\"]                                                                                                                                                                                                                                                                                                                                                              │\n",
       "⋮\n",
       "│ 50  │ Any[\"https://swapi.co/api/people/64/\", \"https://swapi.co/api/people/65/\"]                                                                                                                                                                                                                                                                                                                           │\n",
       "│ 51  │ Any[\"https://swapi.co/api/people/67/\"]                                                                                                                                                                                                                                                                                                                                                              │\n",
       "│ 52  │ Any[\"https://swapi.co/api/people/69/\"]                                                                                                                                                                                                                                                                                                                                                              │\n",
       "│ 53  │ Any[\"https://swapi.co/api/people/70/\"]                                                                                                                                                                                                                                                                                                                                                              │\n",
       "│ 54  │ Any[\"https://swapi.co/api/people/71/\"]                                                                                                                                                                                                                                                                                                                                                              │\n",
       "│ 55  │ Any[\"https://swapi.co/api/people/76/\"]                                                                                                                                                                                                                                                                                                                                                              │\n",
       "│ 56  │ Any[\"https://swapi.co/api/people/77/\"]                                                                                                                                                                                                                                                                                                                                                              │\n",
       "│ 57  │ Any[\"https://swapi.co/api/people/78/\"]                                                                                                                                                                                                                                                                                                                                                              │\n",
       "│ 58  │ Any[\"https://swapi.co/api/people/79/\"]                                                                                                                                                                                                                                                                                                                                                              │\n",
       "│ 59  │ Any[\"https://swapi.co/api/people/82/\"]                                                                                                                                                                                                                                                                                                                                                              │\n",
       "│ 60  │ Any[\"https://swapi.co/api/people/1/\", \"https://swapi.co/api/people/2/\", \"https://swapi.co/api/people/4/\", \"https://swapi.co/api/people/6/\", \"https://swapi.co/api/people/7/\", \"https://swapi.co/api/people/8/\", \"https://swapi.co/api/people/9/\", \"https://swapi.co/api/people/11/\", \"https://swapi.co/api/people/43/\", \"https://swapi.co/api/people/62/\"]                                          │\n",
       "│ 61  │ Any[]                                                                                                                                                                                                                                                                                                                                                                                               │\n",
       "\n",
       "│ Row │ surface_water │ diameter  │ gravity                                  │\n",
       "├─────┼───────────────┼───────────┼──────────────────────────────────────────┤\n",
       "│ 1   │ \"40\"          │ \"12500\"   │ \"1 standard\"                             │\n",
       "│ 2   │ \"8\"           │ \"10200\"   │ \"1 standard\"                             │\n",
       "│ 3   │ \"100\"         │ \"7200\"    │ \"1.1 standard\"                           │\n",
       "│ 4   │ \"8\"           │ \"8900\"    │ \"N/A\"                                    │\n",
       "│ 5   │ \"0\"           │ \"118000\"  │ \"1.5 (surface), 1 standard (Cloud City)\" │\n",
       "│ 6   │ \"8\"           │ \"4900\"    │ \"0.85 standard\"                          │\n",
       "│ 7   │ \"12\"          │ \"12120\"   │ \"1 standard\"                             │\n",
       "│ 8   │ \"unknown\"     │ \"12240\"   │ \"1 standard\"                             │\n",
       "│ 9   │ \"100\"         │ \"19720\"   │ \"1 standard\"                             │\n",
       "│ 10  │ \"5\"           │ \"11370\"   │ \"0.9 standard\"                           │\n",
       "│ 11  │ \"0.9\"         │ \"12900\"   │ \"1 standard\"                             │\n",
       "⋮\n",
       "│ 50  │ \"unknown\"     │ \"unknown\" │ \"unknown\"                                │\n",
       "│ 51  │ \"unknown\"     │ \"unknown\" │ \"unknown\"                                │\n",
       "│ 52  │ \"unknown\"     │ \"unknown\" │ \"unknown\"                                │\n",
       "│ 53  │ \"unknown\"     │ \"unknown\" │ \"unknown\"                                │\n",
       "│ 54  │ \"100\"         │ \"unknown\" │ \"unknown\"                                │\n",
       "│ 55  │ \"unknown\"     │ \"unknown\" │ \"1\"                                      │\n",
       "│ 56  │ \"25\"          │ \"13800\"   │ \"1\"                                      │\n",
       "│ 57  │ \"unknown\"     │ \"unknown\" │ \"1\"                                      │\n",
       "│ 58  │ \"unknown\"     │ \"13850\"   │ \"1\"                                      │\n",
       "│ 59  │ \"unknown\"     │ \"unknown\" │ \"unknown\"                                │\n",
       "│ 60  │ \"1\"           │ \"10465\"   │ \"1 standard\"                             │\n",
       "│ 61  │ \"unknown\"     │ \"unknown\" │ \"unknown\"                                │\n",
       "\n",
       "│ Row │ rotation_period │ population      │\n",
       "├─────┼─────────────────┼─────────────────┤\n",
       "│ 1   │ \"24\"            │ \"2000000000\"    │\n",
       "│ 2   │ \"24\"            │ \"1000\"          │\n",
       "│ 3   │ \"23\"            │ \"unknown\"       │\n",
       "│ 4   │ \"23\"            │ \"unknown\"       │\n",
       "│ 5   │ \"12\"            │ \"6000000\"       │\n",
       "│ 6   │ \"18\"            │ \"30000000\"      │\n",
       "│ 7   │ \"26\"            │ \"4500000000\"    │\n",
       "│ 8   │ \"24\"            │ \"1000000000000\" │\n",
       "│ 9   │ \"27\"            │ \"1000000000\"    │\n",
       "│ 10  │ \"30\"            │ \"100000000000\"  │\n",
       "│ 11  │ \"27\"            │ \"95000000\"      │\n",
       "⋮\n",
       "│ 50  │ \"unknown\"       │ \"unknown\"       │\n",
       "│ 51  │ \"unknown\"       │ \"unknown\"       │\n",
       "│ 52  │ \"unknown\"       │ \"unknown\"       │\n",
       "│ 53  │ \"unknown\"       │ \"unknown\"       │\n",
       "│ 54  │ \"unknown\"       │ \"500000000\"     │\n",
       "│ 55  │ \"27\"            │ \"500000000000\"  │\n",
       "│ 56  │ \"28\"            │ \"5000000000\"    │\n",
       "│ 57  │ \"unknown\"       │ \"unknown\"       │\n",
       "│ 58  │ \"23\"            │ \"4000000000\"    │\n",
       "│ 59  │ \"unknown\"       │ \"unknown\"       │\n",
       "│ 60  │ \"23\"            │ \"200000\"        │\n",
       "│ 61  │ \"unknown\"       │ \"unknown\"       │\n",
       "\n",
       "│ Row │ terrain                                    │\n",
       "├─────┼────────────────────────────────────────────┤\n",
       "│ 1   │ \"grasslands, mountains\"                    │\n",
       "│ 2   │ \"jungle, rainforests\"                      │\n",
       "│ 3   │ \"tundra, ice caves, mountain ranges\"       │\n",
       "│ 4   │ \"swamp, jungles\"                           │\n",
       "│ 5   │ \"gas giant\"                                │\n",
       "│ 6   │ \"forests, mountains, lakes\"                │\n",
       "│ 7   │ \"grassy hills, swamps, forests, mountains\" │\n",
       "│ 8   │ \"cityscape, mountains\"                     │\n",
       "│ 9   │ \"ocean\"                                    │\n",
       "│ 10  │ \"rock, desert, mountain, barren\"           │\n",
       "│ 11  │ \"scrublands, savanna, canyons, sinkholes\"  │\n",
       "⋮\n",
       "│ 50  │ \"deserts\"                                  │\n",
       "│ 51  │ \"rainforests, rivers, mountains\"           │\n",
       "│ 52  │ \"jungles, forests, deserts\"                │\n",
       "│ 53  │ \"unknown\"                                  │\n",
       "│ 54  │ \"oceans, glaciers\"                         │\n",
       "│ 55  │ \"urban, vines\"                             │\n",
       "│ 56  │ \"plains, forests, hills, mountains\"        │\n",
       "│ 57  │ \"cities, savannahs, seas, plains\"          │\n",
       "│ 58  │ \"rainforests, cliffs, canyons, seas\"       │\n",
       "│ 59  │ \"unknown\"                                  │\n",
       "│ 60  │ \"desert\"                                   │\n",
       "│ 61  │ \"deserts\"                                  │\n",
       "\n",
       "│ Row │ url                                │ name           │\n",
       "├─────┼────────────────────────────────────┼────────────────┤\n",
       "│ 1   │ \"https://swapi.co/api/planets/2/\"  │ \"Alderaan\"     │\n",
       "│ 2   │ \"https://swapi.co/api/planets/3/\"  │ \"Yavin IV\"     │\n",
       "│ 3   │ \"https://swapi.co/api/planets/4/\"  │ \"Hoth\"         │\n",
       "│ 4   │ \"https://swapi.co/api/planets/5/\"  │ \"Dagobah\"      │\n",
       "│ 5   │ \"https://swapi.co/api/planets/6/\"  │ \"Bespin\"       │\n",
       "│ 6   │ \"https://swapi.co/api/planets/7/\"  │ \"Endor\"        │\n",
       "│ 7   │ \"https://swapi.co/api/planets/8/\"  │ \"Naboo\"        │\n",
       "│ 8   │ \"https://swapi.co/api/planets/9/\"  │ \"Coruscant\"    │\n",
       "│ 9   │ \"https://swapi.co/api/planets/10/\" │ \"Kamino\"       │\n",
       "│ 10  │ \"https://swapi.co/api/planets/11/\" │ \"Geonosis\"     │\n",
       "│ 11  │ \"https://swapi.co/api/planets/12/\" │ \"Utapau\"       │\n",
       "⋮\n",
       "│ 50  │ \"https://swapi.co/api/planets/51/\" │ \"Mirial\"       │\n",
       "│ 51  │ \"https://swapi.co/api/planets/52/\" │ \"Serenno\"      │\n",
       "│ 52  │ \"https://swapi.co/api/planets/53/\" │ \"Concord Dawn\" │\n",
       "│ 53  │ \"https://swapi.co/api/planets/54/\" │ \"Zolan\"        │\n",
       "│ 54  │ \"https://swapi.co/api/planets/55/\" │ \"Ojom\"         │\n",
       "│ 55  │ \"https://swapi.co/api/planets/56/\" │ \"Skako\"        │\n",
       "│ 56  │ \"https://swapi.co/api/planets/57/\" │ \"Muunilinst\"   │\n",
       "│ 57  │ \"https://swapi.co/api/planets/58/\" │ \"Shili\"        │\n",
       "│ 58  │ \"https://swapi.co/api/planets/59/\" │ \"Kalee\"        │\n",
       "│ 59  │ \"https://swapi.co/api/planets/60/\" │ \"Umbara\"       │\n",
       "│ 60  │ \"https://swapi.co/api/planets/1/\"  │ \"Tatooine\"     │\n",
       "│ 61  │ \"https://swapi.co/api/planets/61/\" │ \"Jakku\"        │\n",
       "\n",
       "│ Row │ created                       │ climate                     │\n",
       "├─────┼───────────────────────────────┼─────────────────────────────┤\n",
       "│ 1   │ \"2014-12-10T11:35:48.479000Z\" │ \"temperate\"                 │\n",
       "│ 2   │ \"2014-12-10T11:37:19.144000Z\" │ \"temperate, tropical\"       │\n",
       "│ 3   │ \"2014-12-10T11:39:13.934000Z\" │ \"frozen\"                    │\n",
       "│ 4   │ \"2014-12-10T11:42:22.590000Z\" │ \"murky\"                     │\n",
       "│ 5   │ \"2014-12-10T11:43:55.240000Z\" │ \"temperate\"                 │\n",
       "│ 6   │ \"2014-12-10T11:50:29.349000Z\" │ \"temperate\"                 │\n",
       "│ 7   │ \"2014-12-10T11:52:31.066000Z\" │ \"temperate\"                 │\n",
       "│ 8   │ \"2014-12-10T11:54:13.921000Z\" │ \"temperate\"                 │\n",
       "│ 9   │ \"2014-12-10T12:45:06.577000Z\" │ \"temperate\"                 │\n",
       "│ 10  │ \"2014-12-10T12:47:22.350000Z\" │ \"temperate, arid\"           │\n",
       "│ 11  │ \"2014-12-10T12:49:01.491000Z\" │ \"temperate, arid, windy\"    │\n",
       "⋮\n",
       "│ 50  │ \"2014-12-20T16:44:46.318000Z\" │ \"unknown\"                   │\n",
       "│ 51  │ \"2014-12-20T16:52:13.357000Z\" │ \"unknown\"                   │\n",
       "│ 52  │ \"2014-12-20T16:54:39.909000Z\" │ \"unknown\"                   │\n",
       "│ 53  │ \"2014-12-20T16:56:37.250000Z\" │ \"unknown\"                   │\n",
       "│ 54  │ \"2014-12-20T17:27:41.286000Z\" │ \"frigid\"                    │\n",
       "│ 55  │ \"2014-12-20T17:50:47.864000Z\" │ \"temperate\"                 │\n",
       "│ 56  │ \"2014-12-20T17:57:47.420000Z\" │ \"temperate\"                 │\n",
       "│ 57  │ \"2014-12-20T18:43:14.049000Z\" │ \"temperate\"                 │\n",
       "│ 58  │ \"2014-12-20T19:43:51.278000Z\" │ \"arid, temperate, tropical\" │\n",
       "│ 59  │ \"2014-12-20T20:18:36.256000Z\" │ \"unknown\"                   │\n",
       "│ 60  │ \"2014-12-09T13:50:49.641000Z\" │ \"arid\"                      │\n",
       "│ 61  │ \"2015-04-17T06:55:57.556495Z\" │ \"unknown\"                   │\n",
       "\n",
       "│ Row │ orbital_period │\n",
       "├─────┼────────────────┤\n",
       "│ 1   │ \"364\"          │\n",
       "│ 2   │ \"4818\"         │\n",
       "│ 3   │ \"549\"          │\n",
       "│ 4   │ \"341\"          │\n",
       "│ 5   │ \"5110\"         │\n",
       "│ 6   │ \"402\"          │\n",
       "│ 7   │ \"312\"          │\n",
       "│ 8   │ \"368\"          │\n",
       "│ 9   │ \"463\"          │\n",
       "│ 10  │ \"256\"          │\n",
       "│ 11  │ \"351\"          │\n",
       "⋮\n",
       "│ 50  │ \"unknown\"      │\n",
       "│ 51  │ \"unknown\"      │\n",
       "│ 52  │ \"unknown\"      │\n",
       "│ 53  │ \"unknown\"      │\n",
       "│ 54  │ \"unknown\"      │\n",
       "│ 55  │ \"384\"          │\n",
       "│ 56  │ \"412\"          │\n",
       "│ 57  │ \"unknown\"      │\n",
       "│ 58  │ \"378\"          │\n",
       "│ 59  │ \"unknown\"      │\n",
       "│ 60  │ \"304\"          │\n",
       "│ 61  │ \"unknown\"      │\n",
       "\n",
       "│ Row │ films                                                                                                                                                                    │\n",
       "├─────┼──────────────────────────────────────────────────────────────────────────────────────────────────────────────────────────────────────────────────────────────────────────┤\n",
       "│ 1   │ Any[\"https://swapi.co/api/films/6/\", \"https://swapi.co/api/films/1/\"]                                                                                                    │\n",
       "│ 2   │ Any[\"https://swapi.co/api/films/1/\"]                                                                                                                                     │\n",
       "│ 3   │ Any[\"https://swapi.co/api/films/2/\"]                                                                                                                                     │\n",
       "│ 4   │ Any[\"https://swapi.co/api/films/2/\", \"https://swapi.co/api/films/6/\", \"https://swapi.co/api/films/3/\"]                                                                   │\n",
       "│ 5   │ Any[\"https://swapi.co/api/films/2/\"]                                                                                                                                     │\n",
       "│ 6   │ Any[\"https://swapi.co/api/films/3/\"]                                                                                                                                     │\n",
       "│ 7   │ Any[\"https://swapi.co/api/films/5/\", \"https://swapi.co/api/films/4/\", \"https://swapi.co/api/films/6/\", \"https://swapi.co/api/films/3/\"]                                  │\n",
       "│ 8   │ Any[\"https://swapi.co/api/films/5/\", \"https://swapi.co/api/films/4/\", \"https://swapi.co/api/films/6/\", \"https://swapi.co/api/films/3/\"]                                  │\n",
       "│ 9   │ Any[\"https://swapi.co/api/films/5/\"]                                                                                                                                     │\n",
       "│ 10  │ Any[\"https://swapi.co/api/films/5/\"]                                                                                                                                     │\n",
       "│ 11  │ Any[\"https://swapi.co/api/films/6/\"]                                                                                                                                     │\n",
       "⋮\n",
       "│ 50  │ Any[]                                                                                                                                                                    │\n",
       "│ 51  │ Any[]                                                                                                                                                                    │\n",
       "│ 52  │ Any[]                                                                                                                                                                    │\n",
       "│ 53  │ Any[]                                                                                                                                                                    │\n",
       "│ 54  │ Any[]                                                                                                                                                                    │\n",
       "│ 55  │ Any[]                                                                                                                                                                    │\n",
       "│ 56  │ Any[]                                                                                                                                                                    │\n",
       "│ 57  │ Any[]                                                                                                                                                                    │\n",
       "│ 58  │ Any[]                                                                                                                                                                    │\n",
       "│ 59  │ Any[]                                                                                                                                                                    │\n",
       "│ 60  │ Any[\"https://swapi.co/api/films/5/\", \"https://swapi.co/api/films/4/\", \"https://swapi.co/api/films/6/\", \"https://swapi.co/api/films/3/\", \"https://swapi.co/api/films/1/\"] │\n",
       "│ 61  │ Any[\"https://swapi.co/api/films/7/\"]                                                                                                                                     │\n",
       "\n",
       "│ Row │ edited                        │\n",
       "├─────┼───────────────────────────────┤\n",
       "│ 1   │ \"2014-12-20T20:58:18.420000Z\" │\n",
       "│ 2   │ \"2014-12-20T20:58:18.421000Z\" │\n",
       "│ 3   │ \"2014-12-20T20:58:18.423000Z\" │\n",
       "│ 4   │ \"2014-12-20T20:58:18.425000Z\" │\n",
       "│ 5   │ \"2014-12-20T20:58:18.427000Z\" │\n",
       "│ 6   │ \"2014-12-20T20:58:18.429000Z\" │\n",
       "│ 7   │ \"2014-12-20T20:58:18.430000Z\" │\n",
       "│ 8   │ \"2014-12-20T20:58:18.432000Z\" │\n",
       "│ 9   │ \"2014-12-20T20:58:18.434000Z\" │\n",
       "│ 10  │ \"2014-12-20T20:58:18.437000Z\" │\n",
       "│ 11  │ \"2014-12-20T20:58:18.439000Z\" │\n",
       "⋮\n",
       "│ 50  │ \"2014-12-20T20:58:18.508000Z\" │\n",
       "│ 51  │ \"2014-12-20T20:58:18.510000Z\" │\n",
       "│ 52  │ \"2014-12-20T20:58:18.512000Z\" │\n",
       "│ 53  │ \"2014-12-20T20:58:18.514000Z\" │\n",
       "│ 54  │ \"2014-12-20T20:58:18.516000Z\" │\n",
       "│ 55  │ \"2014-12-20T20:58:18.517000Z\" │\n",
       "│ 56  │ \"2014-12-20T20:58:18.519000Z\" │\n",
       "│ 57  │ \"2014-12-20T20:58:18.521000Z\" │\n",
       "│ 58  │ \"2014-12-20T20:58:18.523000Z\" │\n",
       "│ 59  │ \"2014-12-20T20:58:18.525000Z\" │\n",
       "│ 60  │ \"2014-12-21T20:48:04.175778Z\" │\n",
       "│ 61  │ \"2015-04-17T06:55:57.556551Z\" │"
      ]
     },
     "execution_count": 48,
     "metadata": {},
     "output_type": "execute_result"
    }
   ],
   "source": [
    "dfplanets = jsontodf(planets)"
   ]
  },
  {
   "cell_type": "code",
   "execution_count": 38,
   "metadata": {},
   "outputs": [
    {
     "name": "stdout",
     "output_type": "stream",
     "text": [
      "residents\n",
      "Summary Stats:\n",
      "Length:         61\n",
      "Type:           Array{Any,1}\n",
      "Number Unique:  50\n",
      "Number Missing: 0\n",
      "% Missing:      0.000000\n",
      "\n",
      "surface_water\n",
      "Summary Stats:\n",
      "Length:         61\n",
      "Type:           String\n",
      "Number Unique:  16\n",
      "Number Missing: 0\n",
      "% Missing:      0.000000\n",
      "\n",
      "diameter\n",
      "Summary Stats:\n",
      "Length:         61\n",
      "Type:           String\n",
      "Number Unique:  40\n",
      "Number Missing: 0\n",
      "% Missing:      0.000000\n",
      "\n",
      "gravity\n",
      "Summary Stats:\n",
      "Length:         61\n",
      "Type:           String\n",
      "Number Unique:  14\n",
      "Number Missing: 0\n",
      "% Missing:      0.000000\n",
      "\n",
      "rotation_period\n",
      "Summary Stats:\n",
      "Length:         61\n",
      "Type:           String\n",
      "Number Unique:  20\n",
      "Number Missing: 0\n",
      "% Missing:      0.000000\n",
      "\n",
      "population\n",
      "Summary Stats:\n",
      "Length:         61\n",
      "Type:           String\n",
      "Number Unique:  40\n",
      "Number Missing: 0\n",
      "% Missing:      0.000000\n",
      "\n",
      "terrain\n",
      "Summary Stats:\n",
      "Length:         61\n",
      "Type:           String\n",
      "Number Unique:  54\n",
      "Number Missing: 0\n",
      "% Missing:      0.000000\n",
      "\n",
      "url\n",
      "Summary Stats:\n",
      "Length:         61\n",
      "Type:           String\n",
      "Number Unique:  61\n",
      "Number Missing: 0\n",
      "% Missing:      0.000000\n",
      "\n",
      "name\n",
      "Summary Stats:\n",
      "Length:         61\n",
      "Type:           String\n",
      "Number Unique:  61\n",
      "Number Missing: 0\n",
      "% Missing:      0.000000\n",
      "\n",
      "created\n",
      "Summary Stats:\n",
      "Length:         61\n",
      "Type:           String\n",
      "Number Unique:  61\n",
      "Number Missing: 0\n",
      "% Missing:      0.000000\n",
      "\n",
      "climate\n",
      "Summary Stats:\n",
      "Length:         61\n",
      "Type:           String\n",
      "Number Unique:  21\n",
      "Number Missing: 0\n",
      "% Missing:      0.000000\n",
      "\n",
      "orbital_period\n",
      "Summary Stats:\n",
      "Length:         61\n",
      "Type:           String\n",
      "Number Unique:  44\n",
      "Number Missing: 0\n",
      "% Missing:      0.000000\n",
      "\n",
      "films\n",
      "Summary Stats:\n",
      "Length:         61\n",
      "Type:           Array{Any,1}\n",
      "Number Unique:  11\n",
      "Number Missing: 0\n",
      "% Missing:      0.000000\n",
      "\n",
      "edited\n",
      "Summary Stats:\n",
      "Length:         61\n",
      "Type:           String\n",
      "Number Unique:  61\n",
      "Number Missing: 0\n",
      "% Missing:      0.000000\n",
      "\n"
     ]
    }
   ],
   "source": [
    "describe(dfplanets)"
   ]
  },
  {
   "cell_type": "markdown",
   "metadata": {},
   "source": [
    "We have `String` only columns, so the summary (from the `describe` function is not very useful)\n"
   ]
  },
  {
   "cell_type": "code",
   "execution_count": 49,
   "metadata": {},
   "outputs": [
    {
     "data": {
      "text/plain": [
       "\"0\""
      ]
     },
     "execution_count": 49,
     "metadata": {},
     "output_type": "execute_result"
    }
   ],
   "source": [
    "# first, use NA instead of \"unknown\"\n",
    "dfplanets[ dfplanets[:diameter] .== \"unknown\", :diameter] = \"0\"\n"
   ]
  },
  {
   "cell_type": "code",
   "execution_count": 50,
   "metadata": {},
   "outputs": [
    {
     "data": {
      "text/plain": [
       "61-element DataArrays.DataArray{String,1}:\n",
       " \"12500\" \n",
       " \"10200\" \n",
       " \"7200\"  \n",
       " \"8900\"  \n",
       " \"118000\"\n",
       " \"4900\"  \n",
       " \"12120\" \n",
       " \"12240\" \n",
       " \"19720\" \n",
       " \"11370\" \n",
       " \"12900\" \n",
       " \"4200\"  \n",
       " \"12765\" \n",
       " ⋮       \n",
       " \"0\"     \n",
       " \"0\"     \n",
       " \"0\"     \n",
       " \"0\"     \n",
       " \"0\"     \n",
       " \"0\"     \n",
       " \"13800\" \n",
       " \"0\"     \n",
       " \"13850\" \n",
       " \"0\"     \n",
       " \"10465\" \n",
       " \"0\"     "
      ]
     },
     "execution_count": 50,
     "metadata": {},
     "output_type": "execute_result"
    }
   ],
   "source": [
    "dfplanets[:diameter]"
   ]
  },
  {
   "cell_type": "code",
   "execution_count": 51,
   "metadata": {},
   "outputs": [
    {
     "data": {
      "text/plain": [
       "NA"
      ]
     },
     "execution_count": 51,
     "metadata": {},
     "output_type": "execute_result"
    }
   ],
   "source": [
    "dfplanets[:diameter] = parse.(Int, dfplanets[:diameter])\n",
    "dfplanets[ dfplanets[:diameter] .== 0, :diameter] = NA"
   ]
  },
  {
   "cell_type": "code",
   "execution_count": 52,
   "metadata": {},
   "outputs": [
    {
     "name": "stdout",
     "output_type": "stream",
     "text": [
      "Summary Stats:\n",
      "Mean:           14344.394737\n",
      "Minimum:        4200.000000\n",
      "1st Quartile:   10096.000000\n",
      "Median:         12135.000000\n",
      "3rd Quartile:   13497.500000\n",
      "Maximum:        118000.000000\n",
      "Length:         38\n",
      "Type:           Int64\n",
      "Number Missing: 23\n",
      "% Missing:      37.704918\n"
     ]
    }
   ],
   "source": [
    "describe(dfplanets[:diameter])"
   ]
  }
 ],
 "metadata": {
  "kernelspec": {
   "display_name": "Julia 0.6.2",
   "language": "julia",
   "name": "julia-0.6"
  },
  "language_info": {
   "file_extension": ".jl",
   "mimetype": "application/julia",
   "name": "julia",
   "version": "0.6.2"
  }
 },
 "nbformat": 4,
 "nbformat_minor": 2
}
